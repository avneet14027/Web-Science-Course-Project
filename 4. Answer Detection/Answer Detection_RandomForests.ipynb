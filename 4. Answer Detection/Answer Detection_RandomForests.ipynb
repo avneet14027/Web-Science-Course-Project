{
 "cells": [
  {
   "cell_type": "code",
   "execution_count": 285,
   "metadata": {},
   "outputs": [],
   "source": [
    "import numpy as np\n",
    "from sklearn.feature_extraction.text import CountVectorizer,TfidfTransformer,TfidfVectorizer\n",
    "from sklearn.ensemble import RandomForestClassifier\n",
    "from sklearn import datasets\n",
    "import json\n",
    "import pandas as pd\n",
    "import numpy as np\n",
    "import random\n",
    "import string\n",
    "from string import punctuation\n",
    "from gensim.parsing.preprocessing import remove_stopwords\n",
    "from sklearn.metrics import accuracy_score"
   ]
  },
  {
   "cell_type": "code",
   "execution_count": 286,
   "metadata": {},
   "outputs": [],
   "source": [
    "filename = \"dataset/web_science_dataset.jsonl\"\n",
    "json_data = []\n",
    "with open(filename) as f:\n",
    "    json_data = f.readlines()\n",
    "json_data_list = []\n",
    "for item in json_data:\n",
    "    json_data_list.append(json.loads(item))\n",
    "df_ = pd.DataFrame(json_data_list)"
   ]
  },
  {
   "cell_type": "code",
   "execution_count": 287,
   "metadata": {},
   "outputs": [
    {
     "data": {
      "text/plain": [
       "(957, 7)"
      ]
     },
     "execution_count": 287,
     "metadata": {},
     "output_type": "execute_result"
    }
   ],
   "source": [
    "df = pd.read_csv('cleaned_data.csv', sep = ',')\n",
    "df.head()\n",
    "df.shape"
   ]
  },
  {
   "cell_type": "code",
   "execution_count": 288,
   "metadata": {},
   "outputs": [
    {
     "data": {
      "text/html": [
       "<div>\n",
       "<style scoped>\n",
       "    .dataframe tbody tr th:only-of-type {\n",
       "        vertical-align: middle;\n",
       "    }\n",
       "\n",
       "    .dataframe tbody tr th {\n",
       "        vertical-align: top;\n",
       "    }\n",
       "\n",
       "    .dataframe thead th {\n",
       "        text-align: right;\n",
       "    }\n",
       "</style>\n",
       "<table border=\"1\" class=\"dataframe\">\n",
       "  <thead>\n",
       "    <tr style=\"text-align: right;\">\n",
       "      <th></th>\n",
       "      <th>Question</th>\n",
       "      <th>Answer URL</th>\n",
       "      <th>Answer Label</th>\n",
       "      <th>Question Rating</th>\n",
       "      <th>Answer Quality</th>\n",
       "      <th>Factual</th>\n",
       "      <th>questionId</th>\n",
       "      <th>answer</th>\n",
       "      <th>categoryId</th>\n",
       "    </tr>\n",
       "  </thead>\n",
       "  <tbody>\n",
       "    <tr>\n",
       "      <td>0</td>\n",
       "      <td>does water have a memory as claimed in homeopathy</td>\n",
       "      <td>https://skeptics.stackexchange.com/questions/2#27</td>\n",
       "      <td>no</td>\n",
       "      <td>1.666667</td>\n",
       "      <td>2.333333</td>\n",
       "      <td>1</td>\n",
       "      <td>2</td>\n",
       "      <td>No\\n\\nWater forms strong intermolecular forces...</td>\n",
       "      <td>3</td>\n",
       "    </tr>\n",
       "    <tr>\n",
       "      <td>1</td>\n",
       "      <td>does chamomile help you to relax</td>\n",
       "      <td>https://skeptics.stackexchange.com/questions/3...</td>\n",
       "      <td>na</td>\n",
       "      <td>2.000000</td>\n",
       "      <td>2.000000</td>\n",
       "      <td>1</td>\n",
       "      <td>3</td>\n",
       "      <td>There is a website by the NIH about Chamomile ...</td>\n",
       "      <td>0</td>\n",
       "    </tr>\n",
       "    <tr>\n",
       "      <td>2</td>\n",
       "      <td>are there benefits to the eca stack for bodybu...</td>\n",
       "      <td>https://skeptics.stackexchange.com/questions/2...</td>\n",
       "      <td>yes</td>\n",
       "      <td>1.666667</td>\n",
       "      <td>2.000000</td>\n",
       "      <td>1</td>\n",
       "      <td>22</td>\n",
       "      <td>It appears that the combination of ephedrine a...</td>\n",
       "      <td>0</td>\n",
       "    </tr>\n",
       "    <tr>\n",
       "      <td>3</td>\n",
       "      <td>can positive thinking provide an improved outc...</td>\n",
       "      <td>https://skeptics.stackexchange.com/questions/2...</td>\n",
       "      <td>yes</td>\n",
       "      <td>2.666667</td>\n",
       "      <td>2.666667</td>\n",
       "      <td>1</td>\n",
       "      <td>26</td>\n",
       "      <td>To add to Krzysztof's answer. There were also ...</td>\n",
       "      <td>2</td>\n",
       "    </tr>\n",
       "    <tr>\n",
       "      <td>4</td>\n",
       "      <td>are vegetables good for me</td>\n",
       "      <td>https://skeptics.stackexchange.com/questions/3...</td>\n",
       "      <td>yes</td>\n",
       "      <td>2.000000</td>\n",
       "      <td>2.333333</td>\n",
       "      <td>1</td>\n",
       "      <td>32</td>\n",
       "      <td>\\n  From a young age, most people are told tha...</td>\n",
       "      <td>0</td>\n",
       "    </tr>\n",
       "  </tbody>\n",
       "</table>\n",
       "</div>"
      ],
      "text/plain": [
       "                                            Question  \\\n",
       "0  does water have a memory as claimed in homeopathy   \n",
       "1                   does chamomile help you to relax   \n",
       "2  are there benefits to the eca stack for bodybu...   \n",
       "3  can positive thinking provide an improved outc...   \n",
       "4                         are vegetables good for me   \n",
       "\n",
       "                                          Answer URL Answer Label  \\\n",
       "0  https://skeptics.stackexchange.com/questions/2#27           no   \n",
       "1  https://skeptics.stackexchange.com/questions/3...           na   \n",
       "2  https://skeptics.stackexchange.com/questions/2...          yes   \n",
       "3  https://skeptics.stackexchange.com/questions/2...          yes   \n",
       "4  https://skeptics.stackexchange.com/questions/3...          yes   \n",
       "\n",
       "   Question Rating  Answer Quality  Factual  questionId  \\\n",
       "0         1.666667        2.333333        1           2   \n",
       "1         2.000000        2.000000        1           3   \n",
       "2         1.666667        2.000000        1          22   \n",
       "3         2.666667        2.666667        1          26   \n",
       "4         2.000000        2.333333        1          32   \n",
       "\n",
       "                                              answer  categoryId  \n",
       "0  No\\n\\nWater forms strong intermolecular forces...           3  \n",
       "1  There is a website by the NIH about Chamomile ...           0  \n",
       "2  It appears that the combination of ephedrine a...           0  \n",
       "3  To add to Krzysztof's answer. There were also ...           2  \n",
       "4  \\n  From a young age, most people are told tha...           0  "
      ]
     },
     "execution_count": 288,
     "metadata": {},
     "output_type": "execute_result"
    }
   ],
   "source": [
    "map_ = dict(zip(df_['questionId'].astype(int),df_['answer']))\n",
    "df['answer'] = df['questionId'].map(map_)\n",
    "\n",
    "map_cat = dict(zip(df_['questionId'].astype(int),df_['categoryId']))\n",
    "df['categoryId'] = df['questionId'].map(map_cat)\n",
    "\n",
    "df.head()"
   ]
  },
  {
   "cell_type": "code",
   "execution_count": 289,
   "metadata": {},
   "outputs": [],
   "source": [
    "def lemmatize_text(text):\n",
    "    lemmatizer = WordNetLemmatizer()\n",
    "    return (' '.join(lemmatizer.lemmatize(w) for w in word_tokenize(text)))"
   ]
  },
  {
   "cell_type": "code",
   "execution_count": 290,
   "metadata": {},
   "outputs": [],
   "source": [
    "def preprocess_text(df):    \n",
    "\n",
    "    # remove leading/trailing spaces\n",
    "    df = df.str.strip()\n",
    "    \n",
    "    # convert to lowercase\n",
    "    df = df.str.lower()\n",
    "    \n",
    "    df = df.replace(to_replace ='http\\S+', value = '', regex = True)\n",
    "    \n",
    "    # remove punctuation\n",
    "    translator = str.maketrans('', '', string.punctuation) \n",
    "    df = df.str.translate(translator)\n",
    "    \n",
    "    # remove non-alphanumeric characters\n",
    "    df = df.replace(to_replace ='\\s*[^A-Za-z0-9]+\\s*', value = ' ', regex = True)\n",
    "    \n",
    "    # remove digits\n",
    "    translator = str.maketrans('', '', string.digits) \n",
    "    df = df.str.translate(translator)\n",
    "    \n",
    "    df = df.str.strip()\n",
    "    \n",
    "    #lemmatize\n",
    "    #df = df.apply(lemmatize_text)\n",
    "    \n",
    "    return df"
   ]
  },
  {
   "cell_type": "code",
   "execution_count": 291,
   "metadata": {},
   "outputs": [],
   "source": [
    "# convert to lower case, remove leading/trailing spaces\n",
    "df['Question'] = df['Question'].astype(str).str.lower().str.strip()\n",
    "df['Answer Label'] = df['Answer Label'].astype(str).str.lower().str.strip()"
   ]
  },
  {
   "cell_type": "code",
   "execution_count": 292,
   "metadata": {},
   "outputs": [
    {
     "name": "stdout",
     "output_type": "stream",
     "text": [
      "['na' 'no' 'yes']\n"
     ]
    }
   ],
   "source": [
    "df['Question'] = preprocess_text(df['Question'])\n",
    "df['answer'] = preprocess_text(df['answer'])\n",
    "print(np.unique(df['Answer Label']))\n",
    "df['Answer Label'] = df['Answer Label'].replace('nan','na')\n",
    "\n",
    "answer_label_map = {'yes':2,'no':0,'na':1}\n",
    "df['Answer Label'] = df['Answer Label'].map(answer_label_map)\n",
    "#df['Answer Quality'] = ((df['Answer Quality']-1)/(3-1))"
   ]
  },
  {
   "cell_type": "code",
   "execution_count": 293,
   "metadata": {},
   "outputs": [
    {
     "data": {
      "text/plain": [
       "0       799.0\n",
       "1       344.0\n",
       "2      1275.0\n",
       "3      1210.0\n",
       "4      1620.0\n",
       "        ...  \n",
       "952    1568.0\n",
       "953    1316.0\n",
       "954     260.0\n",
       "955    2624.0\n",
       "956     841.0\n",
       "Name: answer, Length: 957, dtype: float64"
      ]
     },
     "execution_count": 293,
     "metadata": {},
     "output_type": "execute_result"
    }
   ],
   "source": [
    "for i, row in df.iterrows():\n",
    "    text = remove_stopwords(row['answer'])\n",
    "    #print(text)\n",
    "    new_text = \" \".join(text.split(\" \")[:])\n",
    "    #print(new_text)\n",
    "    df.at[i,'answer'] = new_text\n",
    "\n",
    "mean_answer_lengths = df['answer'].apply(lambda x: np.mean(len(x)))\n",
    "mean_answer_lengths"
   ]
  },
  {
   "cell_type": "code",
   "execution_count": 294,
   "metadata": {},
   "outputs": [],
   "source": [
    "def read_file(filename):\n",
    "    with open(filename) as f:\n",
    "        data = f.readlines()\n",
    "        data = [int(i.strip()) for i in data ]\n",
    "    return data"
   ]
  },
  {
   "cell_type": "code",
   "execution_count": 295,
   "metadata": {},
   "outputs": [],
   "source": [
    "train_ids = read_file('quality_prediction_data/training_ids.txt')\n",
    "test_ids = read_file('quality_prediction_data/testing_ids.txt')\n",
    "train_data = df.loc[df['questionId'].isin(train_ids)]\n",
    "test_data = df.loc[df['questionId'].isin(test_ids)]"
   ]
  },
  {
   "cell_type": "code",
   "execution_count": 296,
   "metadata": {},
   "outputs": [],
   "source": [
    "from sklearn.model_selection import train_test_split\n",
    "\n",
    "#train_data, valid_data = train_test_split(df,stratify=df['categoryId'].values, test_size=0.2)\n",
    "#train_data.shape\n",
    "#valid_data.shape\n",
    "#train_data.head()"
   ]
  },
  {
   "cell_type": "code",
   "execution_count": 297,
   "metadata": {},
   "outputs": [
    {
     "data": {
      "text/plain": [
       "{0: 0, 1: 1, 2: 2}"
      ]
     },
     "execution_count": 297,
     "metadata": {},
     "output_type": "execute_result"
    }
   ],
   "source": [
    "unique_labels = set(train_data['Answer Label'])\n",
    "unique_labels\n",
    "label_map = {v:k for k,v in enumerate(unique_labels)}\n",
    "label_map"
   ]
  },
  {
   "cell_type": "code",
   "execution_count": 298,
   "metadata": {},
   "outputs": [],
   "source": [
    "corpus = train_data['answer']\n",
    "labels = train_data['Answer Label']"
   ]
  },
  {
   "cell_type": "code",
   "execution_count": 299,
   "metadata": {},
   "outputs": [],
   "source": [
    "vectorizer = CountVectorizer()\n",
    "X = vectorizer.fit_transform(corpus).toarray()\n",
    "Z = vectorizer.transform(test_data['answer']).toarray()"
   ]
  },
  {
   "cell_type": "code",
   "execution_count": 300,
   "metadata": {},
   "outputs": [
    {
     "data": {
      "text/plain": [
       "RandomForestClassifier(bootstrap=True, class_weight=None, criterion='gini',\n",
       "                       max_depth=None, max_features='auto', max_leaf_nodes=None,\n",
       "                       min_impurity_decrease=0.0, min_impurity_split=None,\n",
       "                       min_samples_leaf=1, min_samples_split=2,\n",
       "                       min_weight_fraction_leaf=0.0, n_estimators=100,\n",
       "                       n_jobs=None, oob_score=False, random_state=None,\n",
       "                       verbose=0, warm_start=False)"
      ]
     },
     "execution_count": 300,
     "metadata": {},
     "output_type": "execute_result"
    }
   ],
   "source": [
    "clf = RandomForestClassifier(n_estimators=100)\n",
    "clf.fit(X, labels)"
   ]
  },
  {
   "cell_type": "code",
   "execution_count": 301,
   "metadata": {},
   "outputs": [],
   "source": [
    "test_predictions = clf.predict(Z)\n",
    "accuracy = accuracy_score(test_data['Answer Label'], test_predictions)"
   ]
  },
  {
   "cell_type": "code",
   "execution_count": 302,
   "metadata": {},
   "outputs": [
    {
     "data": {
      "text/plain": [
       "0.38144329896907214"
      ]
     },
     "execution_count": 302,
     "metadata": {},
     "output_type": "execute_result"
    }
   ],
   "source": [
    "accuracy"
   ]
  },
  {
   "cell_type": "code",
   "execution_count": null,
   "metadata": {},
   "outputs": [],
   "source": []
  },
  {
   "cell_type": "code",
   "execution_count": 303,
   "metadata": {},
   "outputs": [],
   "source": [
    "vectorizer = TfidfVectorizer(stop_words=\"english\",max_features=None) #\n",
    "response = vectorizer.fit_transform(corpus)\n",
    "response = response.todense()\n",
    "Z = vectorizer.transform(test_data['answer'])\n",
    "Z = Z.todense()"
   ]
  },
  {
   "cell_type": "code",
   "execution_count": 304,
   "metadata": {},
   "outputs": [
    {
     "data": {
      "text/plain": [
       "RandomForestClassifier(bootstrap=True, class_weight=None, criterion='gini',\n",
       "                       max_depth=None, max_features='auto', max_leaf_nodes=None,\n",
       "                       min_impurity_decrease=0.0, min_impurity_split=None,\n",
       "                       min_samples_leaf=1, min_samples_split=2,\n",
       "                       min_weight_fraction_leaf=0.0, n_estimators=100,\n",
       "                       n_jobs=None, oob_score=False, random_state=None,\n",
       "                       verbose=0, warm_start=False)"
      ]
     },
     "execution_count": 304,
     "metadata": {},
     "output_type": "execute_result"
    }
   ],
   "source": [
    "clf = RandomForestClassifier(n_estimators=100)\n",
    "clf.fit(response, labels)"
   ]
  },
  {
   "cell_type": "code",
   "execution_count": 305,
   "metadata": {},
   "outputs": [],
   "source": [
    "test_predictions = clf.predict(Z)\n",
    "accuracy = accuracy_score(test_data['Answer Label'], test_predictions)"
   ]
  },
  {
   "cell_type": "code",
   "execution_count": 306,
   "metadata": {},
   "outputs": [
    {
     "data": {
      "text/plain": [
       "0.4072164948453608"
      ]
     },
     "execution_count": 306,
     "metadata": {},
     "output_type": "execute_result"
    }
   ],
   "source": [
    "accuracy"
   ]
  },
  {
   "cell_type": "code",
   "execution_count": null,
   "metadata": {},
   "outputs": [],
   "source": []
  },
  {
   "cell_type": "code",
   "execution_count": null,
   "metadata": {},
   "outputs": [],
   "source": []
  }
 ],
 "metadata": {
  "kernelspec": {
   "display_name": "Python 3",
   "language": "python",
   "name": "python3"
  },
  "language_info": {
   "codemirror_mode": {
    "name": "ipython",
    "version": 3
   },
   "file_extension": ".py",
   "mimetype": "text/x-python",
   "name": "python",
   "nbconvert_exporter": "python",
   "pygments_lexer": "ipython3",
   "version": "3.7.4"
  }
 },
 "nbformat": 4,
 "nbformat_minor": 2
}

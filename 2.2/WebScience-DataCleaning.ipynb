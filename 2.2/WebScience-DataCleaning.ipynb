{
 "cells": [
  {
   "cell_type": "code",
   "execution_count": 9,
   "metadata": {},
   "outputs": [],
   "source": [
    "import pandas as pd\n",
    "import numpy as np\n",
    "import os\n",
    "import string\n",
    "import re"
   ]
  },
  {
   "cell_type": "markdown",
   "metadata": {},
   "source": [
    "## Load Data"
   ]
  },
  {
   "cell_type": "code",
   "execution_count": 10,
   "metadata": {
    "scrolled": true
   },
   "outputs": [
    {
     "data": {
      "text/html": [
       "<div>\n",
       "<style scoped>\n",
       "    .dataframe tbody tr th:only-of-type {\n",
       "        vertical-align: middle;\n",
       "    }\n",
       "\n",
       "    .dataframe tbody tr th {\n",
       "        vertical-align: top;\n",
       "    }\n",
       "\n",
       "    .dataframe thead th {\n",
       "        text-align: right;\n",
       "    }\n",
       "</style>\n",
       "<table border=\"1\" class=\"dataframe\">\n",
       "  <thead>\n",
       "    <tr style=\"text-align: right;\">\n",
       "      <th></th>\n",
       "      <th>Question</th>\n",
       "      <th>Answer URL</th>\n",
       "      <th>Answer Label</th>\n",
       "      <th>Question Rating</th>\n",
       "      <th>Answer Quality</th>\n",
       "      <th>Factual</th>\n",
       "      <th>questionId</th>\n",
       "    </tr>\n",
       "  </thead>\n",
       "  <tbody>\n",
       "    <tr>\n",
       "      <td>0</td>\n",
       "      <td>Does Bioptron VIP (Visible Incoherent Polarize...</td>\n",
       "      <td>https://skeptics.stackexchange.com/questions/5...</td>\n",
       "      <td>na</td>\n",
       "      <td>1.0</td>\n",
       "      <td>2.0</td>\n",
       "      <td>1.0</td>\n",
       "      <td>5017</td>\n",
       "    </tr>\n",
       "    <tr>\n",
       "      <td>1</td>\n",
       "      <td>Is Halal meat healthier to consume?</td>\n",
       "      <td>https://skeptics.stackexchange.com/questions/1...</td>\n",
       "      <td>no</td>\n",
       "      <td>2.0</td>\n",
       "      <td>1.0</td>\n",
       "      <td>1.0</td>\n",
       "      <td>18628</td>\n",
       "    </tr>\n",
       "    <tr>\n",
       "      <td>2</td>\n",
       "      <td>Does catnip treat headache and coughs and inso...</td>\n",
       "      <td>https://skeptics.stackexchange.com/questions/7...</td>\n",
       "      <td>na</td>\n",
       "      <td>1.0</td>\n",
       "      <td>2.0</td>\n",
       "      <td>1.0</td>\n",
       "      <td>7367</td>\n",
       "    </tr>\n",
       "    <tr>\n",
       "      <td>3</td>\n",
       "      <td>Is climate change currently good for the world...</td>\n",
       "      <td>https://skeptics.stackexchange.com/questions/1...</td>\n",
       "      <td>no</td>\n",
       "      <td>2.0</td>\n",
       "      <td>3.0</td>\n",
       "      <td>1.0</td>\n",
       "      <td>18136</td>\n",
       "    </tr>\n",
       "    <tr>\n",
       "      <td>4</td>\n",
       "      <td>Does cooking with extra virgin olive oil cause...</td>\n",
       "      <td>https://skeptics.stackexchange.com/questions/1...</td>\n",
       "      <td>no</td>\n",
       "      <td>2.0</td>\n",
       "      <td>2.0</td>\n",
       "      <td>1.0</td>\n",
       "      <td>19180</td>\n",
       "    </tr>\n",
       "  </tbody>\n",
       "</table>\n",
       "</div>"
      ],
      "text/plain": [
       "                                            Question  \\\n",
       "0  Does Bioptron VIP (Visible Incoherent Polarize...   \n",
       "1                Is Halal meat healthier to consume?   \n",
       "2  Does catnip treat headache and coughs and inso...   \n",
       "3  Is climate change currently good for the world...   \n",
       "4  Does cooking with extra virgin olive oil cause...   \n",
       "\n",
       "                                          Answer URL Answer Label  \\\n",
       "0  https://skeptics.stackexchange.com/questions/5...           na   \n",
       "1  https://skeptics.stackexchange.com/questions/1...           no   \n",
       "2  https://skeptics.stackexchange.com/questions/7...           na   \n",
       "3  https://skeptics.stackexchange.com/questions/1...           no   \n",
       "4  https://skeptics.stackexchange.com/questions/1...           no   \n",
       "\n",
       "   Question Rating  Answer Quality  Factual  questionId  \n",
       "0              1.0             2.0      1.0        5017  \n",
       "1              2.0             1.0      1.0       18628  \n",
       "2              1.0             2.0      1.0        7367  \n",
       "3              2.0             3.0      1.0       18136  \n",
       "4              2.0             2.0      1.0       19180  "
      ]
     },
     "execution_count": 10,
     "metadata": {},
     "output_type": "execute_result"
    }
   ],
   "source": [
    "folder_path = \"C:\\\\Users\\\\Reen\\\\Desktop\\\\web science\\\\crowdsourced_data\\\\submissions_fixed_anonymized\"\n",
    "data = []\n",
    "for root,dirs,files in os.walk(folder_path):\n",
    "    for file in files:\n",
    "        filename = folder_path+\"\\\\\"+file\n",
    "        df = pd.read_csv(filename)\n",
    "        data.append(df)\n",
    "final_df = pd.concat(data, ignore_index=True)\n",
    "final_df.head()"
   ]
  },
  {
   "cell_type": "markdown",
   "metadata": {},
   "source": [
    "## Preprocessing"
   ]
  },
  {
   "cell_type": "code",
   "execution_count": 11,
   "metadata": {},
   "outputs": [],
   "source": [
    "def preprocess_text(df):    \n",
    "\n",
    "    # remove leading/trailing spaces\n",
    "    df = df.str.strip()\n",
    "    \n",
    "    # convert to lowercase\n",
    "    df = df.str.lower()\n",
    "    \n",
    "    #regex_pat = re.compile(r'http\\S+\"', flags=re.IGNORECASE)\n",
    "    #df = df.str.replace(regex_pat,'')\n",
    "    df = df.replace(to_replace ='http\\S+', value = '', regex = True)\n",
    "    \n",
    "    # remove punctuation\n",
    "    translator = str.maketrans('', '', string.punctuation) \n",
    "    df = df.str.translate(translator)\n",
    "    \n",
    "    # remove non-alphanumeric characters\n",
    "    df = df.replace(to_replace ='\\s*[^A-Za-z0-9]+\\s*', value = ' ', regex = True)\n",
    "    \n",
    "    # remove digits\n",
    "    translator = str.maketrans('', '', string.digits) \n",
    "    df = df.str.translate(translator)\n",
    "    \n",
    "    df = df.str.strip()\n",
    "    \n",
    "    return df"
   ]
  },
  {
   "cell_type": "code",
   "execution_count": 12,
   "metadata": {},
   "outputs": [],
   "source": [
    "# convert to lower case, remove leading/trailing spaces\n",
    "final_df['Question'] = final_df['Question'].astype(str).str.lower().str.strip()\n",
    "final_df['Answer Label'] = final_df['Answer Label'].astype(str).str.lower().str.strip()"
   ]
  },
  {
   "cell_type": "markdown",
   "metadata": {},
   "source": [
    "#### Unique Answer Labels"
   ]
  },
  {
   "cell_type": "code",
   "execution_count": 13,
   "metadata": {},
   "outputs": [
    {
     "name": "stdout",
     "output_type": "stream",
     "text": [
      "['na' 'nan' 'no' 'yes']\n"
     ]
    },
    {
     "data": {
      "text/html": [
       "<div>\n",
       "<style scoped>\n",
       "    .dataframe tbody tr th:only-of-type {\n",
       "        vertical-align: middle;\n",
       "    }\n",
       "\n",
       "    .dataframe tbody tr th {\n",
       "        vertical-align: top;\n",
       "    }\n",
       "\n",
       "    .dataframe thead th {\n",
       "        text-align: right;\n",
       "    }\n",
       "</style>\n",
       "<table border=\"1\" class=\"dataframe\">\n",
       "  <thead>\n",
       "    <tr style=\"text-align: right;\">\n",
       "      <th></th>\n",
       "      <th>Question</th>\n",
       "      <th>Answer URL</th>\n",
       "      <th>Answer Label</th>\n",
       "      <th>Question Rating</th>\n",
       "      <th>Answer Quality</th>\n",
       "      <th>Factual</th>\n",
       "      <th>questionId</th>\n",
       "    </tr>\n",
       "  </thead>\n",
       "  <tbody>\n",
       "    <tr>\n",
       "      <td>0</td>\n",
       "      <td>does bioptron vip (visible incoherent polarize...</td>\n",
       "      <td>https://skeptics.stackexchange.com/questions/5...</td>\n",
       "      <td>na</td>\n",
       "      <td>1.0</td>\n",
       "      <td>2.0</td>\n",
       "      <td>1.0</td>\n",
       "      <td>5017</td>\n",
       "    </tr>\n",
       "    <tr>\n",
       "      <td>1</td>\n",
       "      <td>is halal meat healthier to consume?</td>\n",
       "      <td>https://skeptics.stackexchange.com/questions/1...</td>\n",
       "      <td>no</td>\n",
       "      <td>2.0</td>\n",
       "      <td>1.0</td>\n",
       "      <td>1.0</td>\n",
       "      <td>18628</td>\n",
       "    </tr>\n",
       "    <tr>\n",
       "      <td>2</td>\n",
       "      <td>does catnip treat headache and coughs and inso...</td>\n",
       "      <td>https://skeptics.stackexchange.com/questions/7...</td>\n",
       "      <td>na</td>\n",
       "      <td>1.0</td>\n",
       "      <td>2.0</td>\n",
       "      <td>1.0</td>\n",
       "      <td>7367</td>\n",
       "    </tr>\n",
       "    <tr>\n",
       "      <td>3</td>\n",
       "      <td>is climate change currently good for the world...</td>\n",
       "      <td>https://skeptics.stackexchange.com/questions/1...</td>\n",
       "      <td>no</td>\n",
       "      <td>2.0</td>\n",
       "      <td>3.0</td>\n",
       "      <td>1.0</td>\n",
       "      <td>18136</td>\n",
       "    </tr>\n",
       "    <tr>\n",
       "      <td>4</td>\n",
       "      <td>does cooking with extra virgin olive oil cause...</td>\n",
       "      <td>https://skeptics.stackexchange.com/questions/1...</td>\n",
       "      <td>no</td>\n",
       "      <td>2.0</td>\n",
       "      <td>2.0</td>\n",
       "      <td>1.0</td>\n",
       "      <td>19180</td>\n",
       "    </tr>\n",
       "  </tbody>\n",
       "</table>\n",
       "</div>"
      ],
      "text/plain": [
       "                                            Question  \\\n",
       "0  does bioptron vip (visible incoherent polarize...   \n",
       "1                is halal meat healthier to consume?   \n",
       "2  does catnip treat headache and coughs and inso...   \n",
       "3  is climate change currently good for the world...   \n",
       "4  does cooking with extra virgin olive oil cause...   \n",
       "\n",
       "                                          Answer URL Answer Label  \\\n",
       "0  https://skeptics.stackexchange.com/questions/5...           na   \n",
       "1  https://skeptics.stackexchange.com/questions/1...           no   \n",
       "2  https://skeptics.stackexchange.com/questions/7...           na   \n",
       "3  https://skeptics.stackexchange.com/questions/1...           no   \n",
       "4  https://skeptics.stackexchange.com/questions/1...           no   \n",
       "\n",
       "   Question Rating  Answer Quality  Factual  questionId  \n",
       "0              1.0             2.0      1.0        5017  \n",
       "1              2.0             1.0      1.0       18628  \n",
       "2              1.0             2.0      1.0        7367  \n",
       "3              2.0             3.0      1.0       18136  \n",
       "4              2.0             2.0      1.0       19180  "
      ]
     },
     "execution_count": 13,
     "metadata": {},
     "output_type": "execute_result"
    }
   ],
   "source": [
    "print(np.unique(final_df['Answer Label']))\n",
    "final_df['Answer Label'] = final_df['Answer Label'].replace('nan','na')\n",
    "final_df.head()"
   ]
  },
  {
   "cell_type": "markdown",
   "metadata": {},
   "source": [
    "## Duplicate Questions"
   ]
  },
  {
   "cell_type": "code",
   "execution_count": 14,
   "metadata": {},
   "outputs": [
    {
     "name": "stdout",
     "output_type": "stream",
     "text": [
      "2898\n",
      "1066\n"
     ]
    }
   ],
   "source": [
    "#duplicate questions\n",
    "questions = final_df['questionId']\n",
    "print(len(questions))\n",
    "unique_questions = set(questions)\n",
    "print(len(unique_questions))"
   ]
  },
  {
   "cell_type": "code",
   "execution_count": 15,
   "metadata": {},
   "outputs": [
    {
     "name": "stdout",
     "output_type": "stream",
     "text": [
      "1066\n"
     ]
    }
   ],
   "source": [
    "questions = set(final_df['questionId'])\n",
    "print(len(questions))"
   ]
  },
  {
   "cell_type": "code",
   "execution_count": 16,
   "metadata": {},
   "outputs": [
    {
     "data": {
      "text/plain": [
       "Index(['Question', 'Answer URL', 'Answer Label', 'Question Rating',\n",
       "       'Answer Quality', 'Factual', 'questionId'],\n",
       "      dtype='object')"
      ]
     },
     "execution_count": 16,
     "metadata": {},
     "output_type": "execute_result"
    }
   ],
   "source": [
    "df.columns"
   ]
  },
  {
   "cell_type": "markdown",
   "metadata": {},
   "source": [
    "### Majority Voting and Aggregation"
   ]
  },
  {
   "cell_type": "markdown",
   "metadata": {},
   "source": [
    "In case of duplicate questions with tied answer labels, ties are broken arbitrarily, i.e.,\n",
    "either one of the majority answer label is chosen randomly\n",
    "This is done to prevent inducing bias, in case we fix the label to be chosen in case of ties. Moreover, \n",
    "if I annotate these again myself, it again would also induce bias, as I would be trying to shift it towards my own observations \n",
    "\n",
    "    "
   ]
  },
  {
   "cell_type": "code",
   "execution_count": null,
   "metadata": {},
   "outputs": [],
   "source": []
  },
  {
   "cell_type": "code",
   "execution_count": 17,
   "metadata": {},
   "outputs": [
    {
     "name": "stderr",
     "output_type": "stream",
     "text": [
      "D:\\Anaconda3\\lib\\site-packages\\ipykernel_launcher.py:23: SettingWithCopyWarning: \n",
      "A value is trying to be set on a copy of a slice from a DataFrame.\n",
      "Try using .loc[row_indexer,col_indexer] = value instead\n",
      "\n",
      "See the caveats in the documentation: http://pandas.pydata.org/pandas-docs/stable/user_guide/indexing.html#returning-a-view-versus-a-copy\n"
     ]
    },
    {
     "name": "stdout",
     "output_type": "stream",
     "text": [
      "After preprocessing\n",
      "{'is perfect pitch something youre born with can blood group affect behavior', 'can blood group affect behavior'}\n",
      "\n",
      "\n",
      "After preprocessing\n",
      "{'does general relativity bring cosmic time which is the same for all framesofreference', 'does general relativity bring cosmic time'}\n",
      "\n",
      "\n",
      "After preprocessing\n",
      "{'does sunflower oil reduce ldl bad cholesterol more than olive oil', 'does one suv tank of ethanol take as much grain as could feed a person for a whole year does sunflower oil reduce ldl bad cholesterol more than olive oil'}\n",
      "\n",
      "\n"
     ]
    }
   ],
   "source": [
    "duplicates = final_df.groupby(['questionId'])\n",
    "#duplicates.apply(lambda grp: grp.sum())\n",
    "\n",
    "new_df = pd.DataFrame(columns = df.columns)\n",
    "\n",
    "#break ties, single valued\n",
    "\n",
    "tied_ans_labels_count = 0\n",
    "tied_factuality_count = 0\n",
    "\n",
    "old_count = 0\n",
    "count = 0\n",
    "erroneous_ques_ids = []\n",
    "\n",
    "for group_name,group in duplicates:\n",
    "    if(len(group)):\n",
    "        \n",
    "        \n",
    "        unique_questions = set(group['Question'])\n",
    "        if(len(unique_questions)>1):\n",
    "            old_count+=1\n",
    "                   \n",
    "        group['Question'] = preprocess_text(group['Question'])\n",
    "        unique_questions = set(group['Question'])\n",
    "        \n",
    "        if(len(unique_questions)>1):\n",
    "            count+=1\n",
    "            print(\"After preprocessing\")\n",
    "            print(unique_questions)\n",
    "            print(\"\\n\")\n",
    "            erroneous_ques_ids.append(group['questionId'].iloc[0])\n",
    "        \n",
    "        question = group['Question'].iloc[0]\n",
    "        answer_url = group['Answer URL'].iloc[0]\n",
    "        questionId = group['questionId'].iloc[0]\n",
    "        \n",
    "        answer_labels_ = group['Answer Label'].mode()\n",
    "        tied_ans_labels_count+=1 #no of questions for which answer labels are tied\n",
    "        answer_label = answer_labels_.sample(n=1).values[0]\n",
    "\n",
    "        \n",
    "        answer_quality_ = group['Answer Quality'].mean()\n",
    "        answer_quality = answer_quality_\n",
    "        \n",
    "        question_ratings_ = group['Question Rating'].mean()\n",
    "        question_rating = question_ratings_\n",
    "        \n",
    "        factual_labels_ = group['Factual'].mode()\n",
    "        tied_factuality_count +=1 #no of questions which are annotated equally as being factual or non-factual\n",
    "        factual = factual_labels_.sample(n=1).values[0]\n",
    "        \n",
    "        # add to new dataframe, only if labels are factual:\n",
    "        if(factual==1):\n",
    "            new_df = new_df.append({'Question':question,'Answer Label': answer_label, 'Factual': factual, 'Question Rating': question_rating, 'Answer Quality': answer_quality,'Answer URL': answer_url,'questionId':questionId},ignore_index=True)\n",
    "\n",
    "\n",
    "new_df.to_csv(\"cleaned_data.csv\")"
   ]
  },
  {
   "cell_type": "code",
   "execution_count": 18,
   "metadata": {},
   "outputs": [
    {
     "data": {
      "text/plain": [
       "3"
      ]
     },
     "execution_count": 18,
     "metadata": {},
     "output_type": "execute_result"
    }
   ],
   "source": [
    "len(new_df)\n",
    "count"
   ]
  },
  {
   "cell_type": "code",
   "execution_count": 11,
   "metadata": {},
   "outputs": [
    {
     "name": "stdout",
     "output_type": "stream",
     "text": [
      "964\n"
     ]
    }
   ],
   "source": [
    "print(len(new_df))"
   ]
  },
  {
   "cell_type": "code",
   "execution_count": 12,
   "metadata": {},
   "outputs": [
    {
     "data": {
      "text/plain": [
       "[156, 42915, 44749]"
      ]
     },
     "execution_count": 12,
     "metadata": {},
     "output_type": "execute_result"
    }
   ],
   "source": [
    "erroneous_ques_ids"
   ]
  },
  {
   "cell_type": "markdown",
   "metadata": {},
   "source": [
    "## Inter Annotator Agreement"
   ]
  },
  {
   "cell_type": "code",
   "execution_count": 15,
   "metadata": {},
   "outputs": [],
   "source": [
    "import krippendorff "
   ]
  },
  {
   "cell_type": "code",
   "execution_count": 16,
   "metadata": {},
   "outputs": [
    {
     "data": {
      "text/plain": [
       "{0.0, 1.0}"
      ]
     },
     "execution_count": 16,
     "metadata": {},
     "output_type": "execute_result"
    }
   ],
   "source": [
    "set(final_df['Factual'])"
   ]
  },
  {
   "cell_type": "code",
   "execution_count": 17,
   "metadata": {},
   "outputs": [
    {
     "data": {
      "text/html": [
       "<div>\n",
       "<style scoped>\n",
       "    .dataframe tbody tr th:only-of-type {\n",
       "        vertical-align: middle;\n",
       "    }\n",
       "\n",
       "    .dataframe tbody tr th {\n",
       "        vertical-align: top;\n",
       "    }\n",
       "\n",
       "    .dataframe thead th {\n",
       "        text-align: right;\n",
       "    }\n",
       "</style>\n",
       "<table border=\"1\" class=\"dataframe\">\n",
       "  <thead>\n",
       "    <tr style=\"text-align: right;\">\n",
       "      <th></th>\n",
       "      <th>Unnamed: 0</th>\n",
       "      <th>Question</th>\n",
       "      <th>Answer URL</th>\n",
       "      <th>Answer Label</th>\n",
       "      <th>Question Rating</th>\n",
       "      <th>Answer Quality</th>\n",
       "      <th>Factual</th>\n",
       "      <th>questionId</th>\n",
       "    </tr>\n",
       "  </thead>\n",
       "  <tbody>\n",
       "    <tr>\n",
       "      <td>0</td>\n",
       "      <td>0</td>\n",
       "      <td>does water have a memory as claimed in homeopathy</td>\n",
       "      <td>https://skeptics.stackexchange.com/questions/2#27</td>\n",
       "      <td>no</td>\n",
       "      <td>1.666667</td>\n",
       "      <td>2.333333</td>\n",
       "      <td>1.0</td>\n",
       "      <td>2</td>\n",
       "    </tr>\n",
       "    <tr>\n",
       "      <td>1</td>\n",
       "      <td>1</td>\n",
       "      <td>does chamomile help you to relax</td>\n",
       "      <td>https://skeptics.stackexchange.com/questions/3...</td>\n",
       "      <td>na</td>\n",
       "      <td>2.000000</td>\n",
       "      <td>2.000000</td>\n",
       "      <td>1.0</td>\n",
       "      <td>3</td>\n",
       "    </tr>\n",
       "    <tr>\n",
       "      <td>2</td>\n",
       "      <td>2</td>\n",
       "      <td>are there benefits to the eca stack for bodybu...</td>\n",
       "      <td>https://skeptics.stackexchange.com/questions/2...</td>\n",
       "      <td>yes</td>\n",
       "      <td>1.666667</td>\n",
       "      <td>2.000000</td>\n",
       "      <td>1.0</td>\n",
       "      <td>22</td>\n",
       "    </tr>\n",
       "    <tr>\n",
       "      <td>3</td>\n",
       "      <td>3</td>\n",
       "      <td>can positive thinking provide an improved outc...</td>\n",
       "      <td>https://skeptics.stackexchange.com/questions/2...</td>\n",
       "      <td>yes</td>\n",
       "      <td>2.666667</td>\n",
       "      <td>2.666667</td>\n",
       "      <td>1.0</td>\n",
       "      <td>26</td>\n",
       "    </tr>\n",
       "    <tr>\n",
       "      <td>4</td>\n",
       "      <td>4</td>\n",
       "      <td>are vegetables good for me</td>\n",
       "      <td>https://skeptics.stackexchange.com/questions/3...</td>\n",
       "      <td>yes</td>\n",
       "      <td>2.000000</td>\n",
       "      <td>2.333333</td>\n",
       "      <td>1.0</td>\n",
       "      <td>32</td>\n",
       "    </tr>\n",
       "  </tbody>\n",
       "</table>\n",
       "</div>"
      ],
      "text/plain": [
       "   Unnamed: 0                                           Question  \\\n",
       "0           0  does water have a memory as claimed in homeopathy   \n",
       "1           1                   does chamomile help you to relax   \n",
       "2           2  are there benefits to the eca stack for bodybu...   \n",
       "3           3  can positive thinking provide an improved outc...   \n",
       "4           4                         are vegetables good for me   \n",
       "\n",
       "                                          Answer URL Answer Label  \\\n",
       "0  https://skeptics.stackexchange.com/questions/2#27           no   \n",
       "1  https://skeptics.stackexchange.com/questions/3...           na   \n",
       "2  https://skeptics.stackexchange.com/questions/2...          yes   \n",
       "3  https://skeptics.stackexchange.com/questions/2...          yes   \n",
       "4  https://skeptics.stackexchange.com/questions/3...          yes   \n",
       "\n",
       "   Question Rating  Answer Quality  Factual  questionId  \n",
       "0         1.666667        2.333333      1.0           2  \n",
       "1         2.000000        2.000000      1.0           3  \n",
       "2         1.666667        2.000000      1.0          22  \n",
       "3         2.666667        2.666667      1.0          26  \n",
       "4         2.000000        2.333333      1.0          32  "
      ]
     },
     "execution_count": 17,
     "metadata": {},
     "output_type": "execute_result"
    }
   ],
   "source": [
    "question_df = pd.read_csv(\"cleaned_data.csv\")\n",
    "question_df.head()"
   ]
  },
  {
   "cell_type": "markdown",
   "metadata": {},
   "source": [
    "#### loading user df's"
   ]
  },
  {
   "cell_type": "code",
   "execution_count": 29,
   "metadata": {},
   "outputs": [],
   "source": [
    "question_df = question_df.astype({'questionId': 'int64'})\n",
    "question_ids = list(set(question_df['questionId']))\n",
    "question_ids_dict = {v:k for k,v in enumerate(question_ids)}\n",
    "label_dict = {'yes':2,'no':1,'na':0}\n",
    "fact_dict = {1:2, 0:1}\n",
    "\n",
    "# loading data \n",
    "folder_path = \"C:\\\\Users\\\\Reen\\\\Desktop\\\\web science\\\\crowdsourced_data\\\\submissions_fixed_anonymized\"\n",
    "\n",
    "user_df_dict = {}\n",
    "\n",
    "for root,dirs,files in os.walk(folder_path):\n",
    "    for file in files:\n",
    "        filename = folder_path+\"\\\\\"+file\n",
    "        df = pd.read_csv(filename)\n",
    "        df = df.drop(['Answer URL'],axis=1)\n",
    "        \n",
    "        #add clean question column\n",
    "        #df['question'] = df['questionId'].map(questext_id_map)\n",
    "        \n",
    "        \n",
    "        df['Answer Label'] = df['Answer Label'].astype(str).str.lower().str.strip()\n",
    "        df['Answer Label'] = df['Answer Label'].replace('nan','na')\n",
    "        \n",
    "        #df = df.loc[df['questionId'].isin(question_ids)]\n",
    "        df['Answer Label'] = df['Answer Label'].map(label_dict)\n",
    "        \n",
    "        #df['Factual'] = df['Factual'].map(fact_dict)\n",
    "        \n",
    "        key = file.replace('.csv','')\n",
    "        key = int(key.replace('WS',''))\n",
    "        \n",
    "        user_df_dict[key] = df"
   ]
  },
  {
   "cell_type": "code",
   "execution_count": 32,
   "metadata": {},
   "outputs": [
    {
     "data": {
      "text/plain": [
       "1066"
      ]
     },
     "execution_count": 32,
     "metadata": {},
     "output_type": "execute_result"
    }
   ],
   "source": [
    "qids = set(final_df['questionId'])\n",
    "len(qids)"
   ]
  },
  {
   "cell_type": "code",
   "execution_count": 33,
   "metadata": {},
   "outputs": [
    {
     "name": "stdout",
     "output_type": "stream",
     "text": [
      "966\n",
      "968\n",
      "966\n",
      "966\n",
      "966\n",
      "966\n",
      "966\n",
      "966\n",
      "966\n",
      "966\n",
      "966\n",
      "966\n",
      "966\n",
      "966\n",
      "966\n",
      "966\n",
      "966\n",
      "966\n",
      "966\n",
      "966\n",
      "966\n",
      "966\n",
      "966\n",
      "966\n",
      "966\n",
      "966\n",
      "966\n",
      "966\n",
      "966\n"
     ]
    }
   ],
   "source": [
    "answer_quality_ratings_all = []\n",
    "question_rating_all = []\n",
    "factual_all = []\n",
    "answer_label_all = []\n",
    "\n",
    "for user in user_df_dict.keys():\n",
    "    \n",
    "    #print(user)\n",
    "    user_df = user_df_dict[user]\n",
    "    \n",
    "    #print(user_df.dtypes)\n",
    "    answer_quality = []\n",
    "    question_rating = []\n",
    "    factual = []\n",
    "    answer_label = []\n",
    "        \n",
    "    for qid in qids:\n",
    "        \n",
    "        if qid in list(set(user_df['questionId'])):\n",
    "            answer_quality.append(user_df.loc[user_df['questionId'] == qid, 'Answer Quality'].iloc[0])\n",
    "            question_rating.append(user_df.loc[user_df['questionId'] == qid,'Question Rating'].iloc[0])\n",
    "            answer_label.append(user_df.loc[user_df['questionId'] == qid,'Answer Label'].iloc[0])\n",
    "            factual.append(user_df.loc[user_df['questionId'] == qid,'Factual'].iloc[0])\n",
    "        else:\n",
    "            answer_quality.append(np.nan)\n",
    "            question_rating.append(np.nan)\n",
    "            answer_label.append(np.nan)\n",
    "            factual.append(np.nan)\n",
    "    #print(len([i for i in factual if np.isnan(i)]))\n",
    "            \n",
    "    answer_quality_ratings_all.append(answer_quality)\n",
    "    question_rating_all.append(question_rating)\n",
    "    factual_all.append(factual)\n",
    "    answer_label_all.append(answer_label)\n",
    "\n"
   ]
  },
  {
   "cell_type": "code",
   "execution_count": 34,
   "metadata": {},
   "outputs": [
    {
     "data": {
      "text/plain": [
       "0.17461897185164588"
      ]
     },
     "execution_count": 34,
     "metadata": {},
     "output_type": "execute_result"
    }
   ],
   "source": [
    "krippendorff.alpha(answer_quality_ratings_all)"
   ]
  },
  {
   "cell_type": "code",
   "execution_count": 35,
   "metadata": {},
   "outputs": [
    {
     "data": {
      "text/plain": [
       "0.06762494449406009"
      ]
     },
     "execution_count": 35,
     "metadata": {},
     "output_type": "execute_result"
    }
   ],
   "source": [
    "krippendorff.alpha(question_rating_all)"
   ]
  },
  {
   "cell_type": "code",
   "execution_count": 36,
   "metadata": {},
   "outputs": [
    {
     "data": {
      "text/plain": [
       "0.053187086092715274"
      ]
     },
     "execution_count": 36,
     "metadata": {},
     "output_type": "execute_result"
    }
   ],
   "source": [
    "krippendorff.alpha(factual_all)"
   ]
  },
  {
   "cell_type": "code",
   "execution_count": 37,
   "metadata": {},
   "outputs": [
    {
     "data": {
      "text/plain": [
       "0.3603173976259818"
      ]
     },
     "execution_count": 37,
     "metadata": {},
     "output_type": "execute_result"
    }
   ],
   "source": [
    "krippendorff.alpha(answer_label_all)"
   ]
  },
  {
   "cell_type": "code",
   "execution_count": 38,
   "metadata": {},
   "outputs": [],
   "source": [
    "all_data = [answer_label_all,question_rating_all,answer_quality_ratings_all,factual_all]"
   ]
  },
  {
   "cell_type": "code",
   "execution_count": 39,
   "metadata": {},
   "outputs": [],
   "source": [
    "alpha_vals = []\n",
    "for i in range(len(all_data)):\n",
    "    alpha_vals.append(krippendorff.alpha(all_data[i]))\n",
    "    "
   ]
  },
  {
   "cell_type": "code",
   "execution_count": 40,
   "metadata": {},
   "outputs": [
    {
     "data": {
      "text/plain": [
       "[0.3603173976259818,\n",
       " 0.06762494449406009,\n",
       " 0.17461897185164588,\n",
       " 0.053187086092715274]"
      ]
     },
     "execution_count": 40,
     "metadata": {},
     "output_type": "execute_result"
    }
   ],
   "source": [
    "alpha_vals"
   ]
  },
  {
   "cell_type": "code",
   "execution_count": null,
   "metadata": {},
   "outputs": [],
   "source": []
  }
 ],
 "metadata": {
  "kernelspec": {
   "display_name": "Python 3",
   "language": "python",
   "name": "python3"
  },
  "language_info": {
   "codemirror_mode": {
    "name": "ipython",
    "version": 3
   },
   "file_extension": ".py",
   "mimetype": "text/x-python",
   "name": "python",
   "nbconvert_exporter": "python",
   "pygments_lexer": "ipython3",
   "version": "3.7.4"
  }
 },
 "nbformat": 4,
 "nbformat_minor": 2
}
